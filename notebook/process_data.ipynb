{
 "cells": [
  {
   "cell_type": "markdown",
   "id": "1a801c4b-6608-4127-bd43-1b39072cdb0b",
   "metadata": {},
   "source": [
    "#### Read data"
   ]
  },
  {
   "cell_type": "code",
   "execution_count": null,
   "id": "1211258b-adfc-47a6-b74d-aaaf5730e9b0",
   "metadata": {
    "scrolled": true
   },
   "outputs": [],
   "source": [
    "import pandas as pd\n",
    "import numpy as np\n",
    "filename = \"datos.xlsx\"\n",
    "df = pd.read_excel(filename)\n",
    "df.head(10)"
   ]
  },
  {
   "cell_type": "markdown",
   "id": "0a710504-a9fe-4035-af0e-7f6747957e32",
   "metadata": {},
   "source": [
    "#### Clean data"
   ]
  },
  {
   "cell_type": "code",
   "execution_count": 34,
   "id": "a52873fe-2389-40c8-b323-d6107689a282",
   "metadata": {},
   "outputs": [],
   "source": [
    "columns_to_drop = [\n",
    "    \"id\",\n",
    "    \"first_name\",\n",
    "    \"last_name\",\n",
    "    \"created_at\",\n",
    "    \"updated_at\"\n",
    "]\n",
    "df.drop(columns=[col for col in columns_to_drop if col in df.columns], inplace=True)"
   ]
  },
  {
   "cell_type": "markdown",
   "id": "03a851d4-3972-49ef-821c-9ff35164ed93",
   "metadata": {},
   "source": [
    "#### Remove spaces"
   ]
  },
  {
   "cell_type": "code",
   "execution_count": 35,
   "id": "89f3c23c-a95b-4df6-86ad-1ce6662500df",
   "metadata": {},
   "outputs": [],
   "source": [
    "columns_to_clean = [\n",
    "    \"facultad\",\n",
    "    \"sustento_economico\",\n",
    "    \"promedio_secundaria\",\n",
    "    \"vive_con\",\n",
    "    \"formacion_academica_padre\",\n",
    "    \"formacion_academica_hermanos\",\n",
    "    \"formacion_academica_madre\",\n",
    "    \"situacion_ocupacional\",\n",
    "    \"posee_enfermedad\"\n",
    "]\n",
    "df[columns_to_clean] = df[columns_to_clean].apply(lambda x: x.str.rstrip())"
   ]
  },
  {
   "cell_type": "markdown",
   "id": "64dc7be2-a8d8-46c6-bd23-55dbe8639b4a",
   "metadata": {},
   "source": [
    "#### Drop rows with empty values"
   ]
  },
  {
   "cell_type": "code",
   "execution_count": 36,
   "id": "8db3aac9-2326-4723-a54c-b24426c30a5d",
   "metadata": {},
   "outputs": [],
   "source": [
    "df.replace(\"-\", np.nan, inplace=True)\n",
    "df.replace(\"\", np.nan, inplace=True)\n",
    "df.dropna(inplace=True)"
   ]
  },
  {
   "cell_type": "markdown",
   "id": "c153e061-9dc5-4178-9ae6-5ccfd0faf4fb",
   "metadata": {},
   "source": [
    "#### Remove duplicated values"
   ]
  },
  {
   "cell_type": "code",
   "execution_count": 37,
   "id": "88972433-00a7-429c-a8ac-9a3144262388",
   "metadata": {},
   "outputs": [],
   "source": [
    "df = df.drop_duplicates()"
   ]
  },
  {
   "cell_type": "markdown",
   "id": "3a175c3a-41b5-4568-b77e-e38012ff0eb1",
   "metadata": {},
   "source": [
    "#### Identify missing values"
   ]
  },
  {
   "cell_type": "code",
   "execution_count": null,
   "id": "99bab7f8-ed2d-459e-842d-d4ef38ffd48a",
   "metadata": {
    "scrolled": true
   },
   "outputs": [],
   "source": [
    "df.isnull().sum()"
   ]
  },
  {
   "cell_type": "markdown",
   "id": "6009988d-d303-4674-9246-9377fed58d84",
   "metadata": {},
   "source": [
    "### Check numbers of active and abandon students"
   ]
  },
  {
   "cell_type": "code",
   "execution_count": null,
   "id": "70a46da8-170a-45ce-b843-9f522c3b0ca4",
   "metadata": {},
   "outputs": [],
   "source": [
    "abandon = df[df.iloc[:, 0] == 'A']\n",
    "active = df[df.iloc[:, 0] == 'V']\n",
    "graduated = df[df.iloc[:, 0] == 'E']\n",
    "print(f\"Total CA: {len(abandon)}\")\n",
    "print(f\"Total CV: {len(active)}\")\n",
    "print(f\"Total CE: {len(graduated)}\")\n",
    "print(f\"Total: {len(df)}\")"
   ]
  },
  {
   "cell_type": "code",
   "execution_count": null,
   "id": "5d504678-ace2-4f8c-87f5-a31aedfc31ea",
   "metadata": {
    "scrolled": true
   },
   "outputs": [],
   "source": [
    "df.head(100)"
   ]
  },
  {
   "cell_type": "markdown",
   "id": "957861e0-9122-4dbd-9204-d84d9c4d6441",
   "metadata": {},
   "source": [
    "#### Numeric"
   ]
  },
  {
   "cell_type": "markdown",
   "id": "f07f7f41-46cd-40db-bd7a-6f0a32bcb43c",
   "metadata": {},
   "source": [
    "##### Nro hijos"
   ]
  },
  {
   "cell_type": "code",
   "execution_count": null,
   "id": "b8ad2505-0505-4692-97d4-96fbbbdd2b2c",
   "metadata": {},
   "outputs": [],
   "source": [
    "df['nro_hijos'].value_counts()"
   ]
  },
  {
   "cell_type": "markdown",
   "id": "cf90db85-9b46-46e6-99a8-33a019f13841",
   "metadata": {},
   "source": [
    "##### Anio egreso"
   ]
  },
  {
   "cell_type": "code",
   "execution_count": null,
   "id": "6f5f1cfc-9b1c-4e35-86f2-70a11f216627",
   "metadata": {
    "scrolled": true
   },
   "outputs": [],
   "source": [
    "df['anio_egreso'].value_counts()"
   ]
  },
  {
   "cell_type": "markdown",
   "id": "3455eaf2-932e-4db3-ae8a-8c5c3e613b0c",
   "metadata": {},
   "source": [
    "##### Cuantos colegios secundaria"
   ]
  },
  {
   "cell_type": "code",
   "execution_count": null,
   "id": "f63a2aae-6862-4518-8b65-186854854d88",
   "metadata": {},
   "outputs": [],
   "source": [
    "df['cuantos_colegios_secundaria'].value_counts()"
   ]
  },
  {
   "cell_type": "markdown",
   "id": "61d22355-ed3b-42a5-9995-fe870af9a198",
   "metadata": {},
   "source": [
    "#### Convert \"estado\" column to \"desercion\" (A -> 1, V -> 0)"
   ]
  },
  {
   "cell_type": "code",
   "execution_count": 44,
   "id": "ed794c7d-1a8a-4e70-b9cd-442aef2dab2a",
   "metadata": {},
   "outputs": [],
   "source": [
    "df['desercion'] = df['estado'].apply(lambda x: 1 if x == 'A' else 0)\n",
    "df = df.drop('estado', axis=1)"
   ]
  },
  {
   "cell_type": "markdown",
   "id": "f4cdc492-2b57-4625-81da-6818860ac84d",
   "metadata": {},
   "source": [
    "#### Categorical variable encoding"
   ]
  },
  {
   "cell_type": "markdown",
   "id": "ce9ae716-5609-44ca-8676-4f34c0750428",
   "metadata": {},
   "source": [
    "##### Facultad"
   ]
  },
  {
   "cell_type": "code",
   "execution_count": 45,
   "id": "21b20dd6-c2a3-41d0-9518-1307a8043cf9",
   "metadata": {},
   "outputs": [],
   "source": [
    "df['facultad'].value_counts()\n",
    "df = pd.get_dummies(df, columns=['facultad'], drop_first=True)"
   ]
  },
  {
   "cell_type": "markdown",
   "id": "1ed6b79e-f0b4-4974-a05a-8659bb8b004b",
   "metadata": {},
   "source": [
    "##### Estado civil"
   ]
  },
  {
   "cell_type": "code",
   "execution_count": 46,
   "id": "6a56033b-355f-46e5-8afe-ff8f17ece33f",
   "metadata": {},
   "outputs": [],
   "source": [
    "df = pd.get_dummies(df, columns=['estado_civil'], drop_first=True)"
   ]
  },
  {
   "cell_type": "markdown",
   "id": "c69e33b2-a8ec-478b-93f7-29ea79c3cfc0",
   "metadata": {},
   "source": [
    "##### Promedio secundaria"
   ]
  },
  {
   "cell_type": "code",
   "execution_count": 47,
   "id": "965acfdf-5cf6-4014-bc2f-56b716e2b338",
   "metadata": {},
   "outputs": [],
   "source": [
    "df = pd.get_dummies(df, columns=['promedio_secundaria'], drop_first=True)"
   ]
  },
  {
   "cell_type": "markdown",
   "id": "01cfa72a-eb3f-4d52-9606-d6d3dc746e1b",
   "metadata": {},
   "source": [
    "##### Posee enfermedad"
   ]
  },
  {
   "cell_type": "code",
   "execution_count": 48,
   "id": "ea227b46-9c26-4659-bca3-6fc234ca4403",
   "metadata": {},
   "outputs": [],
   "source": [
    "df = pd.get_dummies(df, columns=['posee_enfermedad'], drop_first=True)"
   ]
  },
  {
   "cell_type": "markdown",
   "id": "57e4d1c0-95e8-443a-9d41-1e1434841e70",
   "metadata": {},
   "source": [
    "##### Con quien/es reside"
   ]
  },
  {
   "cell_type": "code",
   "execution_count": 49,
   "id": "eec76789-769d-42a0-8da7-ec19a3d0497a",
   "metadata": {},
   "outputs": [],
   "source": [
    "df = pd.get_dummies(df, columns=['vive_con'], drop_first=True)"
   ]
  },
  {
   "cell_type": "markdown",
   "id": "d4e6ab3d-2f46-4bf1-ae8a-f951d10aaf91",
   "metadata": {},
   "source": [
    "##### Situacion ocupacional"
   ]
  },
  {
   "cell_type": "code",
   "execution_count": 50,
   "id": "fae8c568-8d9e-47eb-a149-f36a29b92ac1",
   "metadata": {
    "scrolled": true
   },
   "outputs": [],
   "source": [
    "df = pd.get_dummies(df, columns=['situacion_ocupacional'], drop_first=True)"
   ]
  },
  {
   "cell_type": "markdown",
   "id": "9bb6b228-7b77-4a20-b837-5d5cf3f17157",
   "metadata": {},
   "source": [
    "##### Sustento económico"
   ]
  },
  {
   "cell_type": "code",
   "execution_count": 51,
   "id": "d33c8daf-ffbc-40dd-a41e-4d0a0699456f",
   "metadata": {},
   "outputs": [],
   "source": [
    "df = pd.get_dummies(df, columns=['sustento_economico'], drop_first=True)"
   ]
  },
  {
   "cell_type": "markdown",
   "id": "3bbc2980-39eb-4ddc-8e35-77797ea1f6ab",
   "metadata": {},
   "source": [
    "##### Formación del padre"
   ]
  },
  {
   "cell_type": "code",
   "execution_count": 52,
   "id": "93abe0f7-3dfb-4cdf-90f5-4027c371965b",
   "metadata": {},
   "outputs": [],
   "source": [
    "df = pd.get_dummies(df, columns=['formacion_academica_padre'], drop_first=True)"
   ]
  },
  {
   "cell_type": "markdown",
   "id": "f0761e7b-8d11-45ef-b069-513a7ddea269",
   "metadata": {},
   "source": [
    "##### Formación de la madre"
   ]
  },
  {
   "cell_type": "code",
   "execution_count": 53,
   "id": "fa43442f-8b01-49c5-a282-acea8e4984da",
   "metadata": {},
   "outputs": [],
   "source": [
    "df = pd.get_dummies(df, columns=['formacion_academica_madre'], drop_first=True)"
   ]
  },
  {
   "cell_type": "markdown",
   "id": "d34e7dc2-4ecb-4e53-86be-eb518068b80e",
   "metadata": {},
   "source": [
    "##### Formación de hermanos\n"
   ]
  },
  {
   "cell_type": "code",
   "execution_count": 54,
   "id": "3bb2a8eb-aa05-451d-8d65-cb91856f90f3",
   "metadata": {
    "scrolled": true
   },
   "outputs": [],
   "source": [
    "df = pd.get_dummies(df, columns=['formacion_academica_hermanos'], drop_first=True)"
   ]
  },
  {
   "cell_type": "markdown",
   "id": "99c3313b",
   "metadata": {},
   "source": [
    "##### Transformar fecha de nacimiento a edad"
   ]
  },
  {
   "cell_type": "code",
   "execution_count": 55,
   "id": "77667cbe",
   "metadata": {},
   "outputs": [],
   "source": [
    "# Parsear columna 'fecha_nac' a formato datetime\n",
    "df['fecha_nac'] = pd.to_datetime(df['fecha_nac'])\n",
    "\n",
    "# Crear una fecha de referencia en el año 2019 (fecha en la que se obtuvieron los datos)\n",
    "fecha_datos = pd.to_datetime('2019-12-31')\n",
    "\n",
    "# Calcular la edad restando la fecha de nacimiento de la fecha de los datos\n",
    "df['edad'] = fecha_datos.year - df['fecha_nac'].dt.year\n",
    "\n",
    "# Reemplazar valores de edad menores de 17 años por la edad base (17 años)\n",
    "df.loc[df['edad'] < 17, 'edad'] = 17\n",
    "\n",
    "# Verificar los cálculos\n",
    "df[['fecha_nac', 'edad']].head()\n",
    "\n",
    "# Eliminar columna 'fecha_nac'\n",
    "df = df.drop('fecha_nac', axis=1)"
   ]
  },
  {
   "cell_type": "markdown",
   "id": "fe3e0141",
   "metadata": {},
   "source": [
    "#### Defining the features and target variable:"
   ]
  },
  {
   "cell_type": "code",
   "execution_count": 56,
   "id": "91aea356",
   "metadata": {},
   "outputs": [
    {
     "name": "stdout",
     "output_type": "stream",
     "text": [
      "Features dimensions (X): (620, 37)\n",
      "Target variable dimension (y): (620,)\n"
     ]
    }
   ],
   "source": [
    "# \"desercion\" columns is our target variable (1 or 0)\n",
    "X = df.drop('desercion', axis=1)  # Features\n",
    "y = df['desercion']  # Target variable\n",
    "\n",
    "# Check dimensions\n",
    "print(\"Features dimensions (X):\", X.shape)\n",
    "print(\"Target variable dimension (y):\", y.shape)"
   ]
  },
  {
   "cell_type": "markdown",
   "id": "3ab150aa",
   "metadata": {},
   "source": [
    "#### Split the dataset into training (80%) and testing (20%)"
   ]
  },
  {
   "cell_type": "code",
   "execution_count": 57,
   "id": "e47e08b5",
   "metadata": {},
   "outputs": [
    {
     "name": "stdout",
     "output_type": "stream",
     "text": [
      "Training X set size: (496, 37)\n",
      "Testing X set size: (124, 37)\n",
      "Training y set size: (496,)\n",
      "Testing y set size: (124,)\n"
     ]
    }
   ],
   "source": [
    "from sklearn.model_selection import train_test_split\n",
    "\n",
    "\"\"\"\n",
    "Split the dataset into training (80%) and testing (20%)\n",
    "\n",
    "test_size=0.2 specifies that 20% of the data will go into the test set, while 80% will be used for training.\n",
    "random_state=42 ensures reproducibility. Keeping this value constant ensures get the same split every time run the code.\n",
    "\"\"\"\n",
    "X_train, X_test, y_train, y_test = train_test_split(X, y, test_size=0.2, random_state=42)\n",
    "\n",
    "# Check the size of the training and testing sets\n",
    "print(\"Training X set size:\", X_train.shape)\n",
    "print(\"Testing X set size:\", X_test.shape)\n",
    "print(\"Training y set size:\", y_train.shape)\n",
    "print(\"Testing y set size:\", y_test.shape)\n"
   ]
  },
  {
   "cell_type": "markdown",
   "id": "40b37f18-3220-44e9-913a-36a6235c4b06",
   "metadata": {},
   "source": [
    "### Train models"
   ]
  },
  {
   "cell_type": "code",
   "execution_count": 58,
   "id": "20d54d0f-7d60-4740-9732-945713dad3ae",
   "metadata": {},
   "outputs": [
    {
     "name": "stdout",
     "output_type": "stream",
     "text": [
      "\n",
      "Training and evaluating Decision Tree...\n",
      "\n",
      "Decision Tree Results:\n",
      "Accuracy: 0.97\n",
      "Confusion Matrix:\n",
      " [[50  1]\n",
      " [ 3 70]]\n",
      "Classification Report:\n",
      "               precision    recall  f1-score   support\n",
      "\n",
      "           0       0.94      0.98      0.96        51\n",
      "           1       0.99      0.96      0.97        73\n",
      "\n",
      "    accuracy                           0.97       124\n",
      "   macro avg       0.96      0.97      0.97       124\n",
      "weighted avg       0.97      0.97      0.97       124\n",
      "\n",
      "\n",
      "Training and evaluating Logistic Regression...\n",
      "\n",
      "Logistic Regression Results:\n",
      "Accuracy: 0.94\n",
      "Confusion Matrix:\n",
      " [[51  0]\n",
      " [ 8 65]]\n",
      "Classification Report:\n",
      "               precision    recall  f1-score   support\n",
      "\n",
      "           0       0.86      1.00      0.93        51\n",
      "           1       1.00      0.89      0.94        73\n",
      "\n",
      "    accuracy                           0.94       124\n",
      "   macro avg       0.93      0.95      0.93       124\n",
      "weighted avg       0.94      0.94      0.94       124\n",
      "\n",
      "\n",
      "Training and evaluating Naive Bayes...\n",
      "\n",
      "Naive Bayes Results:\n",
      "Accuracy: 0.89\n",
      "Confusion Matrix:\n",
      " [[41 10]\n",
      " [ 4 69]]\n",
      "Classification Report:\n",
      "               precision    recall  f1-score   support\n",
      "\n",
      "           0       0.91      0.80      0.85        51\n",
      "           1       0.87      0.95      0.91        73\n",
      "\n",
      "    accuracy                           0.89       124\n",
      "   macro avg       0.89      0.87      0.88       124\n",
      "weighted avg       0.89      0.89      0.89       124\n",
      "\n",
      "\n",
      "Training and evaluating Neural Network (MLP)...\n",
      "\n",
      "Neural Network (MLP) Results:\n",
      "Accuracy: 0.92\n",
      "Confusion Matrix:\n",
      " [[49  2]\n",
      " [ 8 65]]\n",
      "Classification Report:\n",
      "               precision    recall  f1-score   support\n",
      "\n",
      "           0       0.86      0.96      0.91        51\n",
      "           1       0.97      0.89      0.93        73\n",
      "\n",
      "    accuracy                           0.92       124\n",
      "   macro avg       0.91      0.93      0.92       124\n",
      "weighted avg       0.92      0.92      0.92       124\n",
      "\n"
     ]
    },
    {
     "data": {
      "image/png": "[encoded data removed]",
      "text/plain": [
       "<Figure size 1200x600 with 1 Axes>"
      ]
     },
     "metadata": {},
     "output_type": "display_data"
    },
    {
     "name": "stdout",
     "output_type": "stream",
     "text": [
      "\n",
      "Cross-validation scores (5-fold):\n",
      "Decision Tree: 0.99 (+/- 0.01)\n",
      "Logistic Regression: 0.97 (+/- 0.03)\n",
      "Naive Bayes: 0.83 (+/- 0.07)\n",
      "Neural Network (MLP): 0.70 (+/- 0.26)\n",
      "\n",
      "Model Summary (sorted by accuracy):\n",
      "                  Model  Accuracy\n",
      "0         Decision Tree  0.967742\n",
      "1   Logistic Regression  0.935484\n",
      "3  Neural Network (MLP)  0.919355\n",
      "2           Naive Bayes  0.887097\n"
     ]
    }
   ],
   "source": [
    "from sklearn.model_selection import cross_val_score\n",
    "from sklearn.linear_model import LogisticRegression\n",
    "from sklearn.tree import DecisionTreeClassifier\n",
    "from sklearn.naive_bayes import GaussianNB\n",
    "from sklearn.metrics import accuracy_score, confusion_matrix, classification_report\n",
    "import numpy as np\n",
    "import pandas as pd\n",
    "import matplotlib.pyplot as plt\n",
    "import seaborn as sns\n",
    "from sklearn.neural_network import MLPClassifier\n",
    "\n",
    "# Define the models\n",
    "models = {\n",
    "    'Decision Tree': DecisionTreeClassifier(max_depth=10, min_samples_split=20, class_weight='balanced', random_state=42),\n",
    "    'Logistic Regression': LogisticRegression(C=0.1, class_weight='balanced', max_iter=1000, solver='liblinear', random_state=42),\n",
    "    'Naive Bayes': GaussianNB(var_smoothing=1e-8),\n",
    "    'Neural Network (MLP)': MLPClassifier(hidden_layer_sizes=(100, 50), activation='relu', max_iter=1000, random_state=42)\n",
    "}\n",
    "\n",
    "# Train and evaluate each model\n",
    "results = {}\n",
    "for name, model in models.items():\n",
    "    print(f\"\\nTraining and evaluating {name}...\")\n",
    "    # Train the model\n",
    "    model.fit(X_train, y_train)\n",
    "\n",
    "    # Make predictions\n",
    "    y_pred = model.predict(X_test)\n",
    "    \n",
    "    # Calculate metrics\n",
    "    accuracy = accuracy_score(y_test, y_pred)\n",
    "    conf_mat = confusion_matrix(y_test, y_pred)\n",
    "    class_rep = classification_report(y_test, y_pred)\n",
    "    \n",
    "    # Store results\n",
    "    results[name] = {\n",
    "        'accuracy': accuracy,\n",
    "        'confusion_matrix': conf_mat,\n",
    "        'classification_report': class_rep\n",
    "    }\n",
    "    \n",
    "    # Print results for each model\n",
    "    print(f\"\\n{name} Results:\")\n",
    "    print(f\"Accuracy: {accuracy:.2f}\")\n",
    "    print(\"Confusion Matrix:\\n\", conf_mat)\n",
    "    print(\"Classification Report:\\n\", class_rep)\n",
    "\n",
    "# Create a bar plot comparing accuracies\n",
    "plt.figure(figsize=(12, 6))\n",
    "accuracies = [results[model]['accuracy'] for model in models]\n",
    "plt.bar(models.keys(), accuracies)\n",
    "plt.title('Model Accuracy Comparison')\n",
    "plt.xlabel('Models')\n",
    "plt.ylabel('Accuracy')\n",
    "plt.xticks(rotation=45)\n",
    "plt.tight_layout()\n",
    "plt.show()\n",
    "\n",
    "# Calculate and display cross-validation scores\n",
    "print(\"\\nCross-validation scores (5-fold):\")\n",
    "for name, model in models.items():\n",
    "    cv_scores = cross_val_score(model, X_train, y_train, cv=5)\n",
    "    print(f\"{name}: {cv_scores.mean():.2f} (+/- {cv_scores.std() * 2:.2f})\")\n",
    "\n",
    "# Create a summary DataFrame\n",
    "summary_data = {\n",
    "    'Model': list(models.keys()),\n",
    "    'Accuracy': [results[model]['accuracy'] for model in models]\n",
    "}\n",
    "summary_df = pd.DataFrame(summary_data).sort_values('Accuracy', ascending=False)\n",
    "print(\"\\nModel Summary (sorted by accuracy):\")\n",
    "print(summary_df)"
   ]
  },
  {
   "cell_type": "markdown",
   "id": "604fd433-ed1f-4819-9f3b-cfe844435b5c",
   "metadata": {},
   "source": [
    "### Train Decision Tree model"
   ]
  },
  {
   "cell_type": "code",
   "execution_count": 59,
   "id": "a26bd444-7861-48d4-bedd-e30ad7e0cad4",
   "metadata": {},
   "outputs": [
    {
     "name": "stdout",
     "output_type": "stream",
     "text": [
      "Results:\n",
      "Accuracy: 0.97\n",
      "Confusion Matrix:\n",
      " [[50  1]\n",
      " [ 3 70]]\n",
      "Classification Report:\n",
      "               precision    recall  f1-score   support\n",
      "\n",
      "           0       0.94      0.98      0.96        51\n",
      "           1       0.99      0.96      0.97        73\n",
      "\n",
      "    accuracy                           0.97       124\n",
      "   macro avg       0.96      0.97      0.97       124\n",
      "weighted avg       0.97      0.97      0.97       124\n",
      "\n"
     ]
    }
   ],
   "source": [
    "from sklearn.tree import DecisionTreeClassifier\n",
    "from sklearn.metrics import accuracy_score, confusion_matrix, classification_report\n",
    "\n",
    "model = DecisionTreeClassifier(max_depth=10, min_samples_split=20, class_weight='balanced', random_state=42)\n",
    "\n",
    "# Train the model\n",
    "model.fit(X_train, y_train)\n",
    "\n",
    "# Make predictions\n",
    "y_pred = model.predict(X_test)\n",
    "\n",
    "# Calculate metrics\n",
    "accuracy = accuracy_score(y_test, y_pred)\n",
    "conf_mat = confusion_matrix(y_test, y_pred)\n",
    "class_rep = classification_report(y_test, y_pred)\n",
    "\n",
    "# Print results\n",
    "print(\"Results:\")\n",
    "print(f\"Accuracy: {accuracy:.2f}\")\n",
    "print(\"Confusion Matrix:\\n\", conf_mat)\n",
    "print(\"Classification Report:\\n\", class_rep)"
   ]
  },
  {
   "cell_type": "markdown",
   "id": "bbc70933-a9a7-43e3-97d2-f206952bff8a",
   "metadata": {},
   "source": [
    "### Check columns"
   ]
  },
  {
   "cell_type": "code",
   "execution_count": null,
   "id": "b84fad65-5f7b-44ca-9f92-f72a01452a50",
   "metadata": {},
   "outputs": [],
   "source": [
    "df.isnull().sum()"
   ]
  },
  {
   "cell_type": "markdown",
   "id": "ab689f5b",
   "metadata": {},
   "source": [
    "### Save the model"
   ]
  },
  {
   "cell_type": "code",
   "execution_count": 61,
   "id": "5d07d8d7",
   "metadata": {},
   "outputs": [
    {
     "data": {
      "text/plain": [
       "['model.pkl']"
      ]
     },
     "execution_count": 61,
     "metadata": {},
     "output_type": "execute_result"
    }
   ],
   "source": [
    "import joblib\n",
    "\n",
    "# Save the model to a file\n",
    "joblib.dump(model, 'model.pkl')"
   ]
  },
  {
   "cell_type": "code",
   "execution_count": 62,
   "id": "6cd2af3e-650c-4219-b286-031d6cd975a7",
   "metadata": {},
   "outputs": [
    {
     "data": {
      "text/plain": [
       "['model_columns.pkl']"
      ]
     },
     "execution_count": 62,
     "metadata": {},
     "output_type": "execute_result"
    }
   ],
   "source": [
    "# Save the column names\n",
    "model_columns = list(df.columns)\n",
    "joblib.dump(list(df.columns), 'model_columns.pkl')"
   ]
  }
 ],
 "metadata": {
  "kernelspec": {
   "display_name": "Python 3 (ipykernel)",
   "language": "python",
   "name": "python3"
  },
  "language_info": {
   "codemirror_mode": {
    "name": "ipython",
    "version": 3
   },
   "file_extension": ".py",
   "mimetype": "text/x-python",
   "name": "python",
   "nbconvert_exporter": "python",
   "pygments_lexer": "ipython3",
   "version": "3.12.3"
  }
 },
 "nbformat": 4,
 "nbformat_minor": 5
}
